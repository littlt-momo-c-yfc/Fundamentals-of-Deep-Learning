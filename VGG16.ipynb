{
 "cells": [
  {
   "cell_type": "markdown",
   "id": "f62023ee",
   "metadata": {},
   "source": [
    "# 使用 VGG16 对 CIFAR10 分类\n",
    "\n",
    "VGG是由Simonyan 和Zisserman在文献《Very Deep Convolutional Networks for Large Scale Image Recognition》中提出卷积神经网络模型，其名称来源于作者所在的牛津大学视觉几何组(Visual Geometry Group)的缩写。\n",
    "\n",
    "该模型参加2014年的 ImageNet图像分类与定位挑战赛，取得了优异成绩：在分类任务上排名第二，在定位任务上排名第一。\n",
    "\n",
    "VGG16的网络结构如下图所示：\n",
    "\n",
    "![VGG16示意图](http://q6dz4bbgt.bkt.clouddn.com/20200229111521.jpg)\n",
    "\n",
    "16层网络的结节信息如下：\n",
    "- 01：Convolution using 64 filters\n",
    "- 02: Convolution using 64 filters + Max pooling\n",
    "- 03: Convolution using 128 filters\n",
    "- 04: Convolution using 128 filters + Max pooling\n",
    "- 05: Convolution using 256 filters\n",
    "- 06: Convolution using 256 filters\n",
    "- 07: Convolution using 256 filters + Max pooling\n",
    "- 08: Convolution using 512 filters\n",
    "- 09: Convolution using 512 filters\n",
    "- 10: Convolution using 512 filters + Max pooling\n",
    "- 11: Convolution using 512 filters\n",
    "- 12: Convolution using 512 filters\n",
    "- 13: Convolution using 512 filters + Max pooling\n",
    "- 14: Fully connected with 4096 nodes\n",
    "- 15: Fully connected with 4096 nodes\n",
    "- 16: Softmax"
   ]
  },
  {
   "cell_type": "markdown",
   "id": "d3986cf5",
   "metadata": {},
   "source": [
    "## 1. 定义 dataloader\n",
    "\n",
    "需要注意的是，这里的 transform，dataloader 和之前定义的有所不同，大家自己体会。"
   ]
  },
  {
   "cell_type": "code",
   "execution_count": 5,
   "id": "f6cf0af8",
   "metadata": {},
   "outputs": [
    {
     "name": "stdout",
     "output_type": "stream",
     "text": [
      "Files already downloaded and verified\n",
      "Files already downloaded and verified\n"
     ]
    }
   ],
   "source": [
    "import torch\n",
    "import torchvision\n",
    "import torchvision.transforms as transforms\n",
    "import matplotlib.pyplot as plt\n",
    "import numpy as np\n",
    "import torch.nn as nn\n",
    "import torch.nn.functional as F\n",
    "import torch.optim as optim\n",
    "\n",
    "# 使用GPU训练，可以在菜单 \"代码执行工具\" -> \"更改运行时类型\" 里进行设置\n",
    "device = torch.device(\"cuda:0\" if torch.cuda.is_available() else \"cpu\")\n",
    "\n",
    "transform_train = transforms.Compose([\n",
    "    transforms.RandomCrop(32, padding=4),\n",
    "    transforms.RandomHorizontalFlip(),\n",
    "    transforms.ToTensor(),\n",
    "    transforms.Normalize((0.4914, 0.4822, 0.4465), (0.2023, 0.1994, 0.2010))])\n",
    "\n",
    "transform_test = transforms.Compose([\n",
    "    transforms.ToTensor(),\n",
    "    transforms.Normalize((0.4914, 0.4822, 0.4465), (0.2023, 0.1994, 0.2010))])\n",
    "\n",
    "trainset = torchvision.datasets.CIFAR10(root='./data', train=True,  download=True, transform=transform_train)\n",
    "testset  = torchvision.datasets.CIFAR10(root='./data', train=False, download=True, transform=transform_test)\n",
    "\n",
    "trainloader = torch.utils.data.DataLoader(trainset, batch_size=128, shuffle=True, num_workers=2)\n",
    "testloader = torch.utils.data.DataLoader(testset, batch_size=128, shuffle=False, num_workers=2)\n",
    "\n",
    "classes = ('plane', 'car', 'bird', 'cat',\n",
    "           'deer', 'dog', 'frog', 'horse', 'ship', 'truck')"
   ]
  },
  {
   "cell_type": "markdown",
   "id": "c2da823d",
   "metadata": {},
   "source": [
    "## 2. VGG 网络定义\n",
    "\n",
    "下面定义VGG网络，参数太多，我手动改简单了些~\n",
    "\n",
    "现在的结构基本上是：\n",
    "\n",
    "64 conv, maxpooling,\n",
    "\n",
    "128 conv, maxpooling,\n",
    "\n",
    "256 conv, 256 conv, maxpooling,\n",
    "\n",
    "512 conv, 512 conv, maxpooling,\n",
    "\n",
    "512 conv, 512 conv, maxpooling,\n",
    "\n",
    "softmax \n",
    "\n",
    "\n",
    "下面是模型的实现代码：\n"
   ]
  },
  {
   "cell_type": "code",
   "execution_count": 9,
   "id": "b45347a1",
   "metadata": {},
   "outputs": [],
   "source": [
    "class VGG(nn.Module):\n",
    "    def __init__(self):\n",
    "        super(VGG, self).__init__()\n",
    "        self.cfg = [64, 'M', 128, 'M', 256, 256, 'M', 512, 512, 'M', 512, 512, 'M']\n",
    "        self.features = self._make_layers(self.cfg)\n",
    "        self.classifier = nn.Linear(512, 10)\n",
    "\n",
    "    def forward(self, x):\n",
    "        out = self.features(x)\n",
    "        out = out.view(out.size(0), -1)\n",
    "        out = self.classifier(out)\n",
    "        return out\n",
    "\n",
    "    def _make_layers(self, cfg):\n",
    "        layers = []\n",
    "        in_channels = 3\n",
    "        for x in cfg:\n",
    "            if x == 'M':\n",
    "                layers += [nn.MaxPool2d(kernel_size=2, stride=2)]\n",
    "            else:\n",
    "                layers += [nn.Conv2d(in_channels, x, kernel_size=3, padding=1),\n",
    "                           nn.BatchNorm2d(x),\n",
    "                           nn.ReLU(inplace=True)]\n",
    "                in_channels = x\n",
    "        layers += [nn.AvgPool2d(kernel_size=1, stride=1)]\n",
    "        return nn.Sequential(*layers)"
   ]
  },
  {
   "cell_type": "markdown",
   "id": "32a9064e",
   "metadata": {},
   "source": [
    "初始化网络，根据实际需要，修改分类层。因为 tiny-imagenet 是对200类图像分类，这里把输出修改为200。\n"
   ]
  },
  {
   "cell_type": "code",
   "execution_count": 10,
   "id": "1daaee2e",
   "metadata": {},
   "outputs": [],
   "source": [
    "# 网络放到GPU上\n",
    "net = VGG().to(device)\n",
    "criterion = nn.CrossEntropyLoss()\n",
    "optimizer = optim.Adam(net.parameters(), lr=0.001)"
   ]
  },
  {
   "cell_type": "markdown",
   "id": "9260ef7b",
   "metadata": {},
   "source": [
    "## 3. 网络训练\n",
    "\n",
    "训练的代码和以前是完全一样的："
   ]
  },
  {
   "cell_type": "code",
   "execution_count": 11,
   "id": "670edf77",
   "metadata": {},
   "outputs": [
    {
     "name": "stdout",
     "output_type": "stream",
     "text": [
      "Epoch: 1 Minibatch:     1 loss: 2.740\n",
      "Epoch: 1 Minibatch:   101 loss: 1.579\n",
      "Epoch: 1 Minibatch:   201 loss: 1.326\n",
      "Epoch: 1 Minibatch:   301 loss: 1.110\n",
      "Epoch: 2 Minibatch:     1 loss: 1.012\n",
      "Epoch: 2 Minibatch:   101 loss: 1.055\n",
      "Epoch: 2 Minibatch:   201 loss: 0.963\n",
      "Epoch: 2 Minibatch:   301 loss: 0.976\n",
      "Epoch: 3 Minibatch:     1 loss: 0.856\n",
      "Epoch: 3 Minibatch:   101 loss: 0.795\n",
      "Epoch: 3 Minibatch:   201 loss: 0.757\n",
      "Epoch: 3 Minibatch:   301 loss: 0.678\n",
      "Epoch: 4 Minibatch:     1 loss: 0.878\n",
      "Epoch: 4 Minibatch:   101 loss: 0.565\n",
      "Epoch: 4 Minibatch:   201 loss: 0.684\n",
      "Epoch: 4 Minibatch:   301 loss: 0.784\n",
      "Epoch: 5 Minibatch:     1 loss: 0.489\n",
      "Epoch: 5 Minibatch:   101 loss: 0.683\n",
      "Epoch: 5 Minibatch:   201 loss: 0.678\n",
      "Epoch: 5 Minibatch:   301 loss: 0.688\n",
      "Epoch: 6 Minibatch:     1 loss: 0.480\n",
      "Epoch: 6 Minibatch:   101 loss: 0.471\n",
      "Epoch: 6 Minibatch:   201 loss: 0.494\n",
      "Epoch: 6 Minibatch:   301 loss: 0.711\n",
      "Epoch: 7 Minibatch:     1 loss: 0.492\n",
      "Epoch: 7 Minibatch:   101 loss: 0.420\n",
      "Epoch: 7 Minibatch:   201 loss: 0.340\n",
      "Epoch: 7 Minibatch:   301 loss: 0.628\n",
      "Epoch: 8 Minibatch:     1 loss: 0.672\n",
      "Epoch: 8 Minibatch:   101 loss: 0.505\n",
      "Epoch: 8 Minibatch:   201 loss: 0.553\n",
      "Epoch: 8 Minibatch:   301 loss: 0.347\n",
      "Epoch: 9 Minibatch:     1 loss: 0.347\n",
      "Epoch: 9 Minibatch:   101 loss: 0.333\n",
      "Epoch: 9 Minibatch:   201 loss: 0.449\n",
      "Epoch: 9 Minibatch:   301 loss: 0.462\n",
      "Epoch: 10 Minibatch:     1 loss: 0.431\n",
      "Epoch: 10 Minibatch:   101 loss: 0.394\n",
      "Epoch: 10 Minibatch:   201 loss: 0.390\n",
      "Epoch: 10 Minibatch:   301 loss: 0.385\n",
      "Finished Training\n"
     ]
    }
   ],
   "source": [
    "for epoch in range(10):  # 重复多轮训练\n",
    "    for i, (inputs, labels) in enumerate(trainloader):\n",
    "        inputs = inputs.to(device)\n",
    "        labels = labels.to(device)\n",
    "        # 优化器梯度归零\n",
    "        optimizer.zero_grad()\n",
    "        # 正向传播 +　反向传播 + 优化 \n",
    "        outputs = net(inputs)\n",
    "        loss = criterion(outputs, labels)\n",
    "        loss.backward()\n",
    "        optimizer.step()\n",
    "        # 输出统计信息\n",
    "        if i % 100 == 0:   \n",
    "            print('Epoch: %d Minibatch: %5d loss: %.3f' %(epoch + 1, i + 1, loss.item()))\n",
    "\n",
    "print('Finished Training')"
   ]
  },
  {
   "cell_type": "markdown",
   "id": "c5335486",
   "metadata": {},
   "source": [
    "## 4. 测试验证准确率：\n",
    "\n",
    "测试的代码和之前也是完全一样的。"
   ]
  },
  {
   "cell_type": "code",
   "execution_count": 12,
   "id": "6214404a",
   "metadata": {},
   "outputs": [
    {
     "name": "stdout",
     "output_type": "stream",
     "text": [
      "Accuracy of the network on the 10000 test images: 83.61 %\n"
     ]
    }
   ],
   "source": [
    "correct = 0\n",
    "total = 0\n",
    "\n",
    "for data in testloader:\n",
    "    images, labels = data\n",
    "    images, labels = images.to(device), labels.to(device)\n",
    "    outputs = net(images)\n",
    "    _, predicted = torch.max(outputs.data, 1)\n",
    "    total += labels.size(0)\n",
    "    correct += (predicted == labels).sum().item()\n",
    "\n",
    "print('Accuracy of the network on the 10000 test images: %.2f %%' % (\n",
    "    100 * correct / total))"
   ]
  },
  {
   "cell_type": "markdown",
   "id": "dbb207dd",
   "metadata": {},
   "source": [
    "可以看到，使用一个简化版的 VGG 网络，就能够显著地将准确率由 64%，提升到 84.92%\n"
   ]
  }
 ],
 "metadata": {
  "kernelspec": {
   "display_name": "aipytorch",
   "language": "python",
   "name": "python3"
  },
  "language_info": {
   "codemirror_mode": {
    "name": "ipython",
    "version": 3
   },
   "file_extension": ".py",
   "mimetype": "text/x-python",
   "name": "python",
   "nbconvert_exporter": "python",
   "pygments_lexer": "ipython3",
   "version": "3.11.7"
  }
 },
 "nbformat": 4,
 "nbformat_minor": 5
}
